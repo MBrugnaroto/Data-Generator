{
 "cells": [
  {
   "cell_type": "markdown",
   "id": "d59eb912",
   "metadata": {},
   "source": [
    "## Library"
   ]
  },
  {
   "cell_type": "code",
   "execution_count": null,
   "metadata": {},
   "outputs": [],
   "source": [
    "import os\n",
    "import statistics\n",
    "import mysql.connector as MariaDB\n",
    "import pandas as pd\n",
    "import seaborn as sns\n",
    "import matplotlib.pyplot as plt\n",
    "from os.path import join\n",
    "from pathlib import Path"
   ]
  },
  {
   "cell_type": "markdown",
   "id": "161ef7a4",
   "metadata": {},
   "source": [
    "## DB Connection"
   ]
  },
  {
   "cell_type": "code",
   "execution_count": null,
   "metadata": {},
   "outputs": [],
   "source": [
    "user = os.environ.get('USER')\n",
    "pw = os.environ.get('PASSWORD')"
   ]
  },
  {
   "cell_type": "code",
   "execution_count": null,
   "metadata": {},
   "outputs": [],
   "source": [
    "con = MariaDB.connect(\n",
    "    host=\"127.0.0.1\",\n",
    "    user=user,\n",
    "    passwd=pw,\n",
    "    db=\"DB_TEST\",\n",
    "    port=3306\n",
    ")"
   ]
  },
  {
   "cell_type": "markdown",
   "metadata": {},
   "source": [
    "## Statistics Table"
   ]
  },
  {
   "cell_type": "markdown",
   "metadata": {},
   "source": [
    "### Getting data from round statistics table"
   ]
  },
  {
   "cell_type": "code",
   "execution_count": null,
   "metadata": {},
   "outputs": [],
   "source": [
    "table = pd.read_sql(\"SELECT * FROM round_statistics\", con)\n",
    "table"
   ]
  },
  {
   "cell_type": "markdown",
   "metadata": {},
   "source": [
    "### Auxiliary tables:"
   ]
  },
  {
   "cell_type": "markdown",
   "metadata": {},
   "source": [
    "#### Total time of operator and main function per operators"
   ]
  },
  {
   "cell_type": "code",
   "execution_count": null,
   "metadata": {},
   "outputs": [],
   "source": [
    "df1 = pd.DataFrame(data=table[[\"id\", \"operator_total_time\", \"operator\"]].rename(columns={\"operator_total_time\":\"time\"}))\n",
    "df1[\"obs\"] = \"tempo_total_operador\"\n",
    "df2 = pd.DataFrame(data=table[[\"id\", \"function_total_time\", \"operator\"]].rename(columns={\"function_total_time\":\"time\"}))\n",
    "df2[\"obs\"] = \"tempo_total_função\"\n",
    "df = pd.concat([df1, df2], ignore_index=True)\n",
    "df"
   ]
  },
  {
   "cell_type": "markdown",
   "metadata": {},
   "source": [
    "#### Time per operator"
   ]
  },
  {
   "cell_type": "code",
   "execution_count": null,
   "metadata": {},
   "outputs": [],
   "source": [
    "time_operators = df.query(\"obs == 'tempo_total_operador'\").groupby([\"id\",\"operator\"]).sum(\"time\").reset_index()\n",
    "time_operators"
   ]
  },
  {
   "cell_type": "markdown",
   "metadata": {},
   "source": [
    "#### Total time of operator and main function"
   ]
  },
  {
   "cell_type": "code",
   "execution_count": null,
   "metadata": {},
   "outputs": [],
   "source": [
    "all_process = table.groupby(\"id\").sum().rename(columns={\"operator_total_time\": \"tempo_total_operador\", \"function_total_time\": \"tempo_total_função\"})\n",
    "all_process.head()"
   ]
  },
  {
   "cell_type": "markdown",
   "metadata": {},
   "source": [
    "### Graphs"
   ]
  },
  {
   "cell_type": "code",
   "execution_count": null,
   "metadata": {},
   "outputs": [],
   "source": [
    "path_imgs = join(\n",
    "    str(Path(os.path.abspath('')).parents[0]),\n",
    "    \"imgs\",\n",
    "    \"{filename}\"\n",
    "    )\n",
    "sns.set_style(\"whitegrid\")"
   ]
  },
  {
   "cell_type": "markdown",
   "metadata": {},
   "source": [
    "* Total time of operator and main function per operator"
   ]
  },
  {
   "cell_type": "code",
   "execution_count": null,
   "metadata": {},
   "outputs": [],
   "source": [
    "plt.figure(figsize = (15,8))\n",
    "grid = sns.FacetGrid(df.rename(columns={\"operator\": \"Operadores\"}), col=\"obs\", hue=\"Operadores\", despine=False, size=5, aspect=1)\n",
    "grid.map(sns.regplot, \"id\", \"time\")\n",
    "grid.set_axis_labels(\"Iteração\", \"Tempo (s)\")\n",
    "grid.set_titles(col_template=\"{col_name}\")\n",
    "grid.set(yticks=[0,0.5, 1,1.5,2,2.5,3,3.5,4,4.5], xticks=[0, 10, 20, 30, 40, 50])\n",
    "grid.add_legend()\n",
    "grid.fig.subplots_adjust(top=0.85)\n",
    "grid.fig.suptitle('Tempo de processamento para cada iteração por operador', fontsize=16)\n",
    "plt.show()\n",
    "grid.savefig(path_imgs.format(filename=\"per_operator.png\"), format=\"png\", dpi=grid.fig.dpi)"
   ]
  },
  {
   "cell_type": "markdown",
   "metadata": {},
   "source": [
    "* Total time for each iteraction"
   ]
  },
  {
   "cell_type": "code",
   "execution_count": null,
   "metadata": {},
   "outputs": [],
   "source": [
    "fig, axes = plt.subplots(figsize=(10,5))\n",
    "sns.lineplot(ax=axes, x=\"id\", y=\"tempo_total_operador\", data=all_process)\n",
    "sns.lineplot(ax=axes, x=\"id\", y=\"tempo_total_função\", data=all_process)\n",
    "axes.set_title(\"Tempo total para processamento em cada iteração\", fontsize=\"17\", y=1.05)\n",
    "axes.set(ylabel=\"Tempo (s)\", xlabel=\"Iteração\")\n",
    "plt.legend(labels=[\"Operadores\",\"Funções\"])\n",
    "plt.show()\n",
    "fig.savefig(path_imgs.format(filename=\"total_processing.png\"), dpi=fig.dpi, format=\"png\")"
   ]
  },
  {
   "cell_type": "markdown",
   "metadata": {},
   "source": [
    "### Metrics"
   ]
  },
  {
   "cell_type": "markdown",
   "metadata": {},
   "source": [
    "* Compound Iteration Growth Rate (CIRG) "
   ]
  },
  {
   "cell_type": "code",
   "execution_count": null,
   "metadata": {},
   "outputs": [],
   "source": [
    "max_interactions = time_operators[\"id\"].max()\n",
    "min_interactions = time_operators[\"id\"].min()\n",
    "\n",
    "final_values = time_operators.loc[\n",
    "        ((df.id == max_interactions) & (df.operator == 'generator')) |\n",
    "        ((df.id == max_interactions) & (df.operator == 'import'))\n",
    "        ].iloc[:,:]\n",
    "initial_values = time_operators.loc[\n",
    "        ((df.id == min_interactions) & (df.operator == 'generator')) |\n",
    "        ((df.id == min_interactions) & (df.operator == 'import'))\n",
    "        ].iloc[:,:]"
   ]
  },
  {
   "cell_type": "code",
   "execution_count": null,
   "metadata": {},
   "outputs": [],
   "source": [
    "final_value_o = final_values.loc[(final_values.operator == 'generator'), 'time'].values[0]\n",
    "initial_value_o = initial_values.loc[(initial_values.operator == 'generator'), 'time'].values[0]\n",
    "\n",
    "CIGR_O = ((final_value_o/initial_value_o)**(1/max_interactions)-1)*100\n",
    "CIGR_O"
   ]
  },
  {
   "cell_type": "code",
   "execution_count": null,
   "metadata": {},
   "outputs": [],
   "source": [
    "final_value_o = final_values.loc[(final_values.operator == 'import'), 'time'].values[0]\n",
    "initial_value_o = initial_values.loc[(initial_values.operator == 'import'), 'time'].values[0]\n",
    "\n",
    "CIGR_I = ((final_value_o/initial_value_o)**(1/max_interactions)-1)*100\n",
    "CIGR_I"
   ]
  },
  {
   "cell_type": "markdown",
   "metadata": {},
   "source": [
    "* Standard Deviation"
   ]
  },
  {
   "cell_type": "code",
   "execution_count": null,
   "metadata": {},
   "outputs": [],
   "source": [
    "statistics.pstdev(time_operators.loc[(time_operators.operator == 'generator'), 'time'].values)"
   ]
  },
  {
   "cell_type": "markdown",
   "metadata": {},
   "source": [
    "* Median"
   ]
  },
  {
   "cell_type": "code",
   "execution_count": null,
   "metadata": {},
   "outputs": [],
   "source": [
    "diff_time = all_process['tempo_total_operador'] - all_process[\"tempo_total_função\"]\n",
    "statistics.median(diff_time)"
   ]
  },
  {
   "cell_type": "markdown",
   "metadata": {},
   "source": [
    "* Total time"
   ]
  },
  {
   "cell_type": "code",
   "execution_count": null,
   "metadata": {},
   "outputs": [],
   "source": [
    "time_operators.groupby('operator').sum('time').reset_index()"
   ]
  },
  {
   "cell_type": "code",
   "execution_count": null,
   "metadata": {},
   "outputs": [],
   "source": [
    "time_operators['time'].sum()"
   ]
  }
 ],
 "metadata": {
  "kernelspec": {
   "display_name": "Python 3.8.10 ('engenv': venv)",
   "language": "python",
   "name": "python3"
  },
  "language_info": {
   "codemirror_mode": {
    "name": "ipython",
    "version": 3
   },
   "file_extension": ".py",
   "mimetype": "text/x-python",
   "name": "python",
   "nbconvert_exporter": "python",
   "pygments_lexer": "ipython3",
   "version": "3.8.10"
  },
  "orig_nbformat": 4,
  "vscode": {
   "interpreter": {
    "hash": "d471e49b01850ee360f40854310f786568778a899d42d43ff72d849e1e3064ff"
   }
  }
 },
 "nbformat": 4,
 "nbformat_minor": 2
}
